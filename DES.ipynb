{
  "nbformat": 4,
  "nbformat_minor": 0,
  "metadata": {
    "colab": {
      "provenance": []
    },
    "kernelspec": {
      "name": "python3",
      "display_name": "Python 3"
    },
    "language_info": {
      "name": "python"
    }
  },
  "cells": [
    {
      "cell_type": "code",
      "execution_count": null,
      "metadata": {
        "colab": {
          "base_uri": "https://localhost:8080/"
        },
        "id": "Y7S8g8a6266d",
        "outputId": "7ea41959-67ec-41d7-9b57-73818589df8c"
      },
      "outputs": [
        {
          "output_type": "stream",
          "name": "stdout",
          "text": [
            "Looking in indexes: https://pypi.org/simple, https://us-python.pkg.dev/colab-wheels/public/simple/\n",
            "Collecting pycryptodome\n",
            "  Downloading pycryptodome-3.17-cp35-abi3-manylinux_2_17_x86_64.manylinux2014_x86_64.whl (2.1 MB)\n",
            "\u001b[2K     \u001b[90m━━━━━━━━━━━━━━━━━━━━━━━━━━━━━━━━━━━━━━━━\u001b[0m \u001b[32m2.1/2.1 MB\u001b[0m \u001b[31m16.6 MB/s\u001b[0m eta \u001b[36m0:00:00\u001b[0m\n",
            "\u001b[?25hInstalling collected packages: pycryptodome\n",
            "Successfully installed pycryptodome-3.17\n"
          ]
        }
      ],
      "source": [
        "!pip install pycryptodome"
      ]
    },
    {
      "cell_type": "code",
      "source": [
        "from Crypto.Cipher import DES\n",
        "from secrets import token_bytes"
      ],
      "metadata": {
        "id": "bSjA4uJM3grD"
      },
      "execution_count": null,
      "outputs": []
    },
    {
      "cell_type": "code",
      "source": [
        "def get_key():\n",
        "  key = token_bytes(8)\n",
        "  print(\"Key is {key}\")\n",
        "  return key"
      ],
      "metadata": {
        "id": "PR6K_51J6xPm"
      },
      "execution_count": null,
      "outputs": []
    },
    {
      "cell_type": "code",
      "source": [
        "def encrypt(msg, key):\n",
        "  cipher = DES.new(key, DES.MODE_EAX)\n",
        "  nonce = cipher.nonce\n",
        "  cipher_text, tag = cipher.encrypt_and_digest(msg.encode('ascii'))\n",
        "  return cipher_text, tag,nonce "
      ],
      "metadata": {
        "id": "IbGQ9eFV7M5E"
      },
      "execution_count": null,
      "outputs": []
    },
    {
      "cell_type": "code",
      "source": [
        "from pickleshare import print_function\n",
        "msg = \"Hello World\"\n",
        "key = get_key()\n",
        "ct, tg, nc = encrypt(msg, key)\n",
        "print(f\"Plaintext: {msg} \\nCipherTex: {ct}\")"
      ],
      "metadata": {
        "colab": {
          "base_uri": "https://localhost:8080/"
        },
        "id": "-2SJxBNmAdun",
        "outputId": "d3f05245-a637-4778-de83-494ed65a4020"
      },
      "execution_count": null,
      "outputs": [
        {
          "output_type": "stream",
          "name": "stdout",
          "text": [
            "Key is {key}\n",
            "Plaintext: Hello World \n",
            "CipherTex: b'\\x042\\x81B\\x0fN<\\xacyV\\xf6'\n"
          ]
        }
      ]
    },
    {
      "cell_type": "code",
      "source": [
        "def decrypt(ct, key,nonce, tag):\n",
        "  cipher = DES.new(key, DES.MODE_EAX, nonce = nonce)\n",
        "  plain_text = cipher.decrypt(ct)\n",
        "  return plain_text"
      ],
      "metadata": {
        "id": "GUry3XCPCABP"
      },
      "execution_count": null,
      "outputs": []
    },
    {
      "cell_type": "code",
      "source": [
        "decrypt(ct, key, nc, tg)"
      ],
      "metadata": {
        "colab": {
          "base_uri": "https://localhost:8080/"
        },
        "id": "WGmynUHQBJPX",
        "outputId": "c4a4f207-489b-47ef-9976-708e9d28f653"
      },
      "execution_count": null,
      "outputs": [
        {
          "output_type": "execute_result",
          "data": {
            "text/plain": [
              "b'Hello World'"
            ]
          },
          "metadata": {},
          "execution_count": 7
        }
      ]
    }
  ]
}